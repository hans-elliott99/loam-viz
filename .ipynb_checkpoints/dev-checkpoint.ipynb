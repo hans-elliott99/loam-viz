{
 "cells": [
  {
   "cell_type": "code",
   "execution_count": 1,
   "id": "7104ddce-b25c-44e5-91f2-9912542d8a93",
   "metadata": {},
   "outputs": [],
   "source": [
    "import torch\n",
    "import pandas as pd\n",
    "import torch\n",
    "import cuml\n",
    "import rmm\n",
    "import numpy as np\n",
    "\n",
    "from tqdm.auto import tqdm\n",
    "from pathlib import Path\n",
    "from itertools import islice\n",
    "from boltons.iterutils import chunked_iter\n",
    "\n",
    "from sentence_transformers import SentenceTransformer"
   ]
  },
  {
   "cell_type": "code",
   "execution_count": 2,
   "id": "3ed68794-c829-4bd6-875f-0398984cd986",
   "metadata": {},
   "outputs": [],
   "source": [
    "import matplotlib as mpl\n",
    "import matplotlib.pyplot as plt\n",
    "import seaborn as sns\n",
    "import altair as alt\n",
    "\n",
    "mpl.style.use('seaborn-muted')\n",
    "sns.set(style='whitegrid')"
   ]
  },
  {
   "cell_type": "code",
   "execution_count": 4,
   "id": "2595525c-0d33-4587-97cf-ba2b56876355",
   "metadata": {},
   "outputs": [
    {
     "data": {
      "text/plain": [
       "True"
      ]
     },
     "execution_count": 4,
     "metadata": {},
     "output_type": "execute_result"
    }
   ],
   "source": [
    "rmm.reinitialize(managed_memory=True)\n",
    "rmm.is_initialized()"
   ]
  },
  {
   "cell_type": "code",
   "execution_count": 5,
   "id": "5bc6bb36-64f0-4a3d-914b-c6031acc91ee",
   "metadata": {},
   "outputs": [
    {
     "data": {
      "text/plain": [
       "'1.11.0+cu113'"
      ]
     },
     "execution_count": 5,
     "metadata": {},
     "output_type": "execute_result"
    }
   ],
   "source": [
    "torch.__version__"
   ]
  },
  {
   "cell_type": "code",
   "execution_count": 6,
   "id": "5bb71197-961d-4a85-b09a-3d44f43b98fe",
   "metadata": {},
   "outputs": [
    {
     "data": {
      "text/plain": [
       "True"
      ]
     },
     "execution_count": 6,
     "metadata": {},
     "output_type": "execute_result"
    }
   ],
   "source": [
    "torch.cuda.is_available()"
   ]
  },
  {
   "cell_type": "code",
   "execution_count": 7,
   "id": "314022b6-f1fd-4dec-86f2-39df0361019e",
   "metadata": {},
   "outputs": [],
   "source": [
    "device = (\n",
    "    torch.device('cuda')\n",
    "    if torch.cuda.is_available()\n",
    "    else torch.device('cpu')\n",
    ")"
   ]
  },
  {
   "cell_type": "code",
   "execution_count": 8,
   "id": "e2720a6b-47df-4e2a-b288-c8d6bafdefb2",
   "metadata": {},
   "outputs": [
    {
     "data": {
      "text/plain": [
       "device(type='cuda')"
      ]
     },
     "execution_count": 8,
     "metadata": {},
     "output_type": "execute_result"
    }
   ],
   "source": [
    "device"
   ]
  },
  {
   "cell_type": "code",
   "execution_count": 11,
   "id": "745f5539-e179-4dc2-b691-d3eb3f7eb8b3",
   "metadata": {},
   "outputs": [],
   "source": [
    "model = SentenceTransformer('all-MiniLM-L6-v1')"
   ]
  },
  {
   "cell_type": "code",
   "execution_count": 12,
   "id": "d594054a-c0c1-44d2-b230-6f7c8cc0feb1",
   "metadata": {},
   "outputs": [],
   "source": [
    "model = model.to(device).half()"
   ]
  },
  {
   "cell_type": "code",
   "execution_count": 13,
   "id": "3edec57c-8a04-42f7-ac60-34fce174cf55",
   "metadata": {},
   "outputs": [],
   "source": [
    "pdf = df.sample(frac=1)"
   ]
  },
  {
   "cell_type": "code",
   "execution_count": 14,
   "id": "3b951fbf-b279-4e8d-bfd0-036ff65ea17c",
   "metadata": {},
   "outputs": [
    {
     "data": {
      "application/vnd.jupyter.widget-view+json": {
       "model_id": "c35a990449c94264a7fd824786a81275",
       "version_major": 2,
       "version_minor": 0
      },
      "text/plain": [
       "Batches:   0%|          | 0/539609 [00:00<?, ?it/s]"
      ]
     },
     "metadata": {},
     "output_type": "display_data"
    }
   ],
   "source": [
    "embeds = model.encode(\n",
    "    pdf.learning_outcome.tolist(),\n",
    "    show_progress_bar=True,\n",
    "    convert_to_numpy=True,\n",
    ")"
   ]
  },
  {
   "cell_type": "code",
   "execution_count": 15,
   "id": "872f8e5c-176b-447f-8ab9-f23e4fd507d3",
   "metadata": {},
   "outputs": [
    {
     "data": {
      "text/plain": [
       "(17267457, 384)"
      ]
     },
     "execution_count": 15,
     "metadata": {},
     "output_type": "execute_result"
    }
   ],
   "source": [
    "embeds.shape"
   ]
  },
  {
   "cell_type": "code",
   "execution_count": 16,
   "id": "7e29f968-6d36-4866-9fb9-c83c5fcafd3f",
   "metadata": {},
   "outputs": [],
   "source": [
    "pdf.to_parquet('./data/minilm-17m.parquet')"
   ]
  },
  {
   "cell_type": "code",
   "execution_count": 17,
   "id": "4bfaaf0f-492f-4a64-b766-e082d13be1f6",
   "metadata": {},
   "outputs": [],
   "source": [
    "np.save('./data/minilm-17m.npy', embeds)"
   ]
  },
  {
   "cell_type": "markdown",
   "id": "4480ce7d-ce4f-4f59-be6a-e90bf99f84f9",
   "metadata": {},
   "source": [
    "# UMAP"
   ]
  },
  {
   "cell_type": "code",
   "execution_count": 14,
   "id": "940ffdfe-1f17-4c19-b939-885d0fcb2ffb",
   "metadata": {},
   "outputs": [],
   "source": [
    "pdf = pd.read_parquet('./data/minilm-17m.parquet')"
   ]
  },
  {
   "cell_type": "code",
   "execution_count": 8,
   "id": "01d30d0f-76b3-485b-a001-df959d0a7b1b",
   "metadata": {},
   "outputs": [],
   "source": [
    "embeds = np.load('./data/minilm-17m.npy')"
   ]
  },
  {
   "cell_type": "code",
   "execution_count": 9,
   "id": "d678f7fd-f7d9-4efa-80c4-59af5dced95f",
   "metadata": {},
   "outputs": [],
   "source": [
    "embeds_small = cuml.GaussianRandomProjection(n_components=64).fit_transform(embeds)"
   ]
  },
  {
   "cell_type": "code",
   "execution_count": 10,
   "id": "3895bf99-0894-4888-9d19-eda199782a3a",
   "metadata": {},
   "outputs": [
    {
     "data": {
      "text/plain": [
       "(17267457, 64)"
      ]
     },
     "execution_count": 10,
     "metadata": {},
     "output_type": "execute_result"
    }
   ],
   "source": [
    "embeds_small.shape"
   ]
  },
  {
   "cell_type": "code",
   "execution_count": 10,
   "id": "0b75b398-52ae-4a19-be81-b8f1274e33fb",
   "metadata": {},
   "outputs": [],
   "source": [
    "np.save('./data/minilm-17m-64.npy', embeds_small)"
   ]
  },
  {
   "cell_type": "code",
   "execution_count": 11,
   "id": "87d0233b-7a52-425d-9a0a-be71f5bc3c95",
   "metadata": {},
   "outputs": [
    {
     "name": "stdout",
     "output_type": "stream",
     "text": [
      "[D] [20:26:59.177356] ../src/umap/runner.cuh:102 n_neighbors=50\n",
      "[D] [20:26:59.177660] ../src/umap/runner.cuh:124 Calling knn graph run\n",
      "[D] [21:48:30.812009] ../src/umap/runner.cuh:130 Done. Calling fuzzy simplicial set\n",
      "[D] [21:48:32.196791] ../src/umap/fuzzy_simpl_set/naive.cuh:317 Smooth kNN Distances\n",
      "[D] [21:48:33.174996] ../src/umap/fuzzy_simpl_set/naive.cuh:319 sigmas = [ 0.0793886, 0.169634, 0.214824, 0.0461171, 0.0355322, 0.05919, 0.155336, 0.215529, 0.170407, 0.265723, 0.183086, 0.212213, 0.0292059, 0.162507, 0.15833, 0.0492306, 0.018961, 0.015694, 0.0989981, 0.335043, 0.0444186, 0.020863, 0.139459, 0.0419205, 0.0790405 ]\n",
      "\n",
      "[D] [21:48:33.175946] ../src/umap/fuzzy_simpl_set/naive.cuh:321 rhos = [ 0.226963, 0.0902719, 1.19209e-07, 0.164198, 0.300329, 0.0577141, 0.119288, 1.19209e-07, 4.76837e-07, 3.57628e-07, 0.0263783, 2.38419e-07, 0.3058, 0.0420145, 2.38419e-07, 0.349005, 0.330844, 0.139198, 0.138221, 2.38419e-07, 0.190082, 0.353538, 0.0955189, 0.142969, 0.327571 ]\n",
      "\n",
      "[D] [21:48:33.176240] ../src/umap/fuzzy_simpl_set/naive.cuh:345 Compute Membership Strength\n",
      "[D] [21:59:03.286604] ../src/umap/fuzzy_simpl_set/naive.cuh:348 ../src/umap/fuzzy_simpl_set/naive.cuh:348 \n",
      "[D] [22:00:11.419495] ../src/umap/runner.cuh:137 Done. Calling remove zeros\n",
      "[D] [22:12:35.712612] ../src/umap/simpl_set_embed/algo.cuh:348 ../src/umap/simpl_set_embed/algo.cuh:348 \n"
     ]
    }
   ],
   "source": [
    "reducer = cuml.UMAP(\n",
    "    n_neighbors=50,\n",
    "    n_epochs=1000,\n",
    "    negative_sample_rate=20,\n",
    "    verbose=True,\n",
    ")\n",
    "\n",
    "x = reducer.fit_transform(embeds_small)"
   ]
  },
  {
   "cell_type": "code",
   "execution_count": 12,
   "id": "5ea67eb2-b5ce-408f-bf1e-8fb8d569c20a",
   "metadata": {},
   "outputs": [
    {
     "data": {
      "text/plain": [
       "(17267457, 2)"
      ]
     },
     "execution_count": 12,
     "metadata": {},
     "output_type": "execute_result"
    }
   ],
   "source": [
    "x.shape"
   ]
  },
  {
   "cell_type": "code",
   "execution_count": 15,
   "id": "90c1b90a-5ccd-470e-b943-02948b4b2938",
   "metadata": {},
   "outputs": [],
   "source": [
    "pdf['x'] = x[:,0]\n",
    "pdf['y'] = x[:,1]"
   ]
  },
  {
   "cell_type": "code",
   "execution_count": 16,
   "id": "34e187f3-8f98-47bb-8378-b1902ca68c82",
   "metadata": {},
   "outputs": [],
   "source": [
    "pdf.to_parquet('./data/minilm-17m-umap.parquet')"
   ]
  },
  {
   "cell_type": "code",
   "execution_count": null,
   "id": "941140fd-ecda-43c9-8a84-f7be3a56f9e5",
   "metadata": {},
   "outputs": [],
   "source": [
    "plt.figure(figsize=(30,30), dpi=200)\n",
    "plt.xlim(-20,20)\n",
    "plt.ylim(-20,20)\n",
    "\n",
    "ax = sns.scatterplot(\n",
    "    x='x',\n",
    "    y='y',\n",
    "    s=0.2,\n",
    "    linewidth=0,\n",
    "    alpha=0.95,\n",
    "    data=pdf,\n",
    ")"
   ]
  },
  {
   "cell_type": "code",
   "execution_count": null,
   "id": "4eb6f77a-a3e5-4ba5-a420-bd45397dd8d6",
   "metadata": {},
   "outputs": [],
   "source": [
    "plt.figure(figsize=(30,30), dpi=200)\n",
    "plt.xlim(-20,20)\n",
    "plt.ylim(-20,20)\n",
    "\n",
    "ax = sns.scatterplot(\n",
    "    x='x',\n",
    "    y='y',\n",
    "    s=0.2,\n",
    "    linewidth=0,\n",
    "    alpha=0.8,\n",
    "    hue='field',\n",
    "    palette='tab20b',\n",
    "    legend=None,\n",
    "    data=pdf,\n",
    ")"
   ]
  },
  {
   "cell_type": "code",
   "execution_count": 20,
   "id": "fcb78092-14d7-4432-b0a2-7248f7a2e87d",
   "metadata": {},
   "outputs": [
    {
     "data": {
      "text/plain": [
       "DataTransformerRegistry.enable('default')"
      ]
     },
     "execution_count": 20,
     "metadata": {},
     "output_type": "execute_result"
    }
   ],
   "source": [
    "alt.data_transformers.disable_max_rows()"
   ]
  },
  {
   "cell_type": "code",
   "execution_count": 21,
   "id": "372b10f9-bcd4-4796-b61b-4e5e55a5a2f9",
   "metadata": {},
   "outputs": [],
   "source": [
    "small_pdf = pdf.sample(20_000)"
   ]
  },
  {
   "cell_type": "code",
   "execution_count": 22,
   "id": "3f808c53-51be-4233-b2fc-e5d07ba53fa8",
   "metadata": {},
   "outputs": [],
   "source": [
    "small_pdf['tooltip'] = small_pdf.apply(lambda row: f'{row.field} | {row.learning_outcome}', axis=1)"
   ]
  },
  {
   "cell_type": "code",
   "execution_count": 23,
   "id": "524bff56-188b-442c-bdb7-d817ed7c4eb3",
   "metadata": {},
   "outputs": [],
   "source": [
    "chart = alt.Chart(small_pdf, width=1000, height=1000).mark_point(size=5).encode(\n",
    "    x='x',\n",
    "    y='y',\n",
    "    tooltip='tooltip',\n",
    "    color='field',\n",
    ")"
   ]
  },
  {
   "cell_type": "code",
   "execution_count": null,
   "id": "c0d3af5c-57da-4e81-84df-470667617b5f",
   "metadata": {},
   "outputs": [],
   "source": [
    "chart.interactive()"
   ]
  },
  {
   "cell_type": "code",
   "execution_count": null,
   "id": "0e172034-18f2-40af-a428-0aea934ab59b",
   "metadata": {},
   "outputs": [],
   "source": []
  }
 ],
 "metadata": {
  "kernelspec": {
   "display_name": "Python 3 (ipykernel)",
   "language": "python",
   "name": "python3"
  },
  "language_info": {
   "codemirror_mode": {
    "name": "ipython",
    "version": 3
   },
   "file_extension": ".py",
   "mimetype": "text/x-python",
   "name": "python",
   "nbconvert_exporter": "python",
   "pygments_lexer": "ipython3",
   "version": "3.8.12"
  }
 },
 "nbformat": 4,
 "nbformat_minor": 5
}
