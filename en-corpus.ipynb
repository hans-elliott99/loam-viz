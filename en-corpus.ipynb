{
 "cells": [
  {
   "cell_type": "code",
   "execution_count": 1,
   "id": "0e843516-5baa-4077-9cb9-5be96ed6be3b",
   "metadata": {},
   "outputs": [],
   "source": [
    "import pandas as pd\n",
    "\n",
    "from huggingface_hub import HfApi\n",
    "from datasets import load_dataset\n",
    "from tqdm.auto import tqdm"
   ]
  },
  {
   "cell_type": "code",
   "execution_count": 2,
   "id": "3c59cd36-5941-4a16-8503-1c7fd62fa085",
   "metadata": {},
   "outputs": [],
   "source": [
    "hf_api = HfApi()"
   ]
  },
  {
   "cell_type": "code",
   "execution_count": 3,
   "id": "b9fc433d-c93a-42fd-836d-22b5bb834b99",
   "metadata": {},
   "outputs": [],
   "source": [
    "datasets = hf_api.list_datasets(\n",
    "    author='bigscience-catalogue-lm-data',\n",
    "    limit=None,\n",
    "    use_auth_token=True,\n",
    ")"
   ]
  },
  {
   "cell_type": "code",
   "execution_count": 4,
   "id": "39c1d639-3412-468a-8036-633ba5630821",
   "metadata": {},
   "outputs": [],
   "source": [
    "en_datasets = [ds for ds in datasets if 'cleaned_lm_en' in ds.id]"
   ]
  },
  {
   "cell_type": "code",
   "execution_count": 5,
   "id": "76e23779-541b-4dca-b7f7-5b90137e69cb",
   "metadata": {},
   "outputs": [
    {
     "data": {
      "text/plain": [
       "44"
      ]
     },
     "execution_count": 5,
     "metadata": {},
     "output_type": "execute_result"
    }
   ],
   "source": [
    "len(en_datasets)"
   ]
  },
  {
   "cell_type": "code",
   "execution_count": 6,
   "id": "e924c8f1-23e3-403e-8447-7e6b9a82575d",
   "metadata": {},
   "outputs": [],
   "source": [
    "info = en_datasets[0]"
   ]
  },
  {
   "cell_type": "code",
   "execution_count": 7,
   "id": "12407848-7c97-409a-a198-dd7fc8c6d31a",
   "metadata": {},
   "outputs": [
    {
     "name": "stderr",
     "output_type": "stream",
     "text": [
      "Using custom data configuration bigscience-catalogue-lm-data--cleaned_lm_en_uncorpus-3f67f6330a0297ac\n",
      "Reusing dataset parquet (/root/.cache/huggingface/datasets/bigscience-catalogue-lm-data___parquet/bigscience-catalogue-lm-data--cleaned_lm_en_uncorpus-3f67f6330a0297ac/0.0.0/7328ef7ee03eaf3f86ae40594d46a1cec86161704e02dd19f232d81eee72ade8)\n"
     ]
    },
    {
     "data": {
      "application/vnd.jupyter.widget-view+json": {
       "model_id": "dea7400e221c40feb986569ff55fc1ac",
       "version_major": 2,
       "version_minor": 0
      },
      "text/plain": [
       "  0%|          | 0/1 [00:00<?, ?it/s]"
      ]
     },
     "metadata": {},
     "output_type": "display_data"
    }
   ],
   "source": [
    "ds = load_dataset(info.id, use_auth_token=True)"
   ]
  },
  {
   "cell_type": "code",
   "execution_count": 8,
   "id": "9af393f1-5a68-49b1-8f3a-edffa6b66473",
   "metadata": {},
   "outputs": [
    {
     "data": {
      "text/plain": [
       "DatasetDict({\n",
       "    train: Dataset({\n",
       "        features: ['text', 'meta'],\n",
       "        num_rows: 143703\n",
       "    })\n",
       "})"
      ]
     },
     "execution_count": 8,
     "metadata": {},
     "output_type": "execute_result"
    }
   ],
   "source": [
    "ds"
   ]
  },
  {
   "cell_type": "code",
   "execution_count": 11,
   "id": "b775f00f-6d7c-4e33-895c-be5e2e4c1044",
   "metadata": {},
   "outputs": [
    {
     "ename": "AttributeError",
     "evalue": "'DatasetDict' object has no attribute 'take'",
     "output_type": "error",
     "traceback": [
      "\u001b[0;31m---------------------------------------------------------------------------\u001b[0m",
      "\u001b[0;31mAttributeError\u001b[0m                            Traceback (most recent call last)",
      "\u001b[0;32m/tmp/ipykernel_324/3759922219.py\u001b[0m in \u001b[0;36m<module>\u001b[0;34m\u001b[0m\n\u001b[0;32m----> 1\u001b[0;31m \u001b[0mds\u001b[0m\u001b[0;34m.\u001b[0m\u001b[0mtake\u001b[0m\u001b[0;34m(\u001b[0m\u001b[0;36m1000\u001b[0m\u001b[0;34m)\u001b[0m\u001b[0;34m\u001b[0m\u001b[0;34m\u001b[0m\u001b[0m\n\u001b[0m",
      "\u001b[0;31mAttributeError\u001b[0m: 'DatasetDict' object has no attribute 'take'"
     ]
    }
   ],
   "source": [
    "ds['train'].take(1000)"
   ]
  },
  {
   "cell_type": "code",
   "execution_count": null,
   "id": "3946f227-a859-44e6-8df2-abf06eb1fb20",
   "metadata": {},
   "outputs": [],
   "source": [
    "df = pd.read_parquet('data/test.parquet')"
   ]
  },
  {
   "cell_type": "code",
   "execution_count": null,
   "id": "e820afd8-af1b-48ab-9a99-1b09dd6fdebe",
   "metadata": {},
   "outputs": [],
   "source": []
  }
 ],
 "metadata": {
  "kernelspec": {
   "display_name": "Python 3 (ipykernel)",
   "language": "python",
   "name": "python3"
  },
  "language_info": {
   "codemirror_mode": {
    "name": "ipython",
    "version": 3
   },
   "file_extension": ".py",
   "mimetype": "text/x-python",
   "name": "python",
   "nbconvert_exporter": "python",
   "pygments_lexer": "ipython3",
   "version": "3.8.12"
  }
 },
 "nbformat": 4,
 "nbformat_minor": 5
}
