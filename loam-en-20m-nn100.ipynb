{
 "cells": [
  {
   "cell_type": "code",
   "execution_count": 1,
   "id": "1b3b8f51-6a3f-4162-a7e9-87972ef94200",
   "metadata": {},
   "outputs": [],
   "source": [
    "import pandas as pd\n",
    "import numpy as np\n",
    "import math\n",
    "import torch"
   ]
  },
  {
   "cell_type": "code",
   "execution_count": 2,
   "id": "ebdf9e79-af8a-4c7e-a488-d1f2825134fb",
   "metadata": {},
   "outputs": [],
   "source": [
    "import matplotlib as mpl\n",
    "import matplotlib.pyplot as plt\n",
    "import seaborn as sns\n",
    "import altair as alt\n",
    "\n",
    "mpl.style.use('seaborn-muted')\n",
    "sns.set(style='whitegrid')"
   ]
  },
  {
   "cell_type": "code",
   "execution_count": 3,
   "id": "46262432-9a68-4686-bdef-f79d7778808b",
   "metadata": {},
   "outputs": [],
   "source": [
    "import cuml\n",
    "import rmm"
   ]
  },
  {
   "cell_type": "code",
   "execution_count": 4,
   "id": "481fadc6-4a82-4b05-a271-c661814cf530",
   "metadata": {},
   "outputs": [
    {
     "data": {
      "text/plain": [
       "True"
      ]
     },
     "execution_count": 4,
     "metadata": {},
     "output_type": "execute_result"
    }
   ],
   "source": [
    "rmm.reinitialize(managed_memory=True)\n",
    "rmm.is_initialized()"
   ]
  },
  {
   "cell_type": "code",
   "execution_count": 5,
   "id": "00ad9c10-e7ac-49c8-bf1e-16752b982d63",
   "metadata": {},
   "outputs": [
    {
     "data": {
      "text/plain": [
       "'1.12.0+cu113'"
      ]
     },
     "execution_count": 5,
     "metadata": {},
     "output_type": "execute_result"
    }
   ],
   "source": [
    "torch.__version__"
   ]
  },
  {
   "cell_type": "code",
   "execution_count": 6,
   "id": "9b404b12-4a16-4bfd-b6ba-3dfd15cc664f",
   "metadata": {},
   "outputs": [
    {
     "data": {
      "text/plain": [
       "True"
      ]
     },
     "execution_count": 6,
     "metadata": {},
     "output_type": "execute_result"
    }
   ],
   "source": [
    "torch.cuda.is_available()"
   ]
  },
  {
   "cell_type": "code",
   "execution_count": 7,
   "id": "fcd16349-015a-49bb-8edd-847588c40ed1",
   "metadata": {},
   "outputs": [],
   "source": [
    "embeds_small = np.load('./data/loam-en-10pct-64.npy')"
   ]
  },
  {
   "cell_type": "code",
   "execution_count": 8,
   "id": "460584ba-1876-408f-b9af-3571501f010e",
   "metadata": {},
   "outputs": [],
   "source": [
    "embeds_small_fp16 = embeds_small.astype('float16')"
   ]
  },
  {
   "cell_type": "code",
   "execution_count": 9,
   "id": "1a6d5d06-baef-4156-8c19-ebef2db14a01",
   "metadata": {},
   "outputs": [
    {
     "data": {
      "text/plain": [
       "(20334881, 64)"
      ]
     },
     "execution_count": 9,
     "metadata": {},
     "output_type": "execute_result"
    }
   ],
   "source": [
    "embeds_small_fp16.shape"
   ]
  },
  {
   "cell_type": "code",
   "execution_count": null,
   "id": "ed1d4f21-8194-4ccc-8853-391f880ce182",
   "metadata": {},
   "outputs": [],
   "source": [
    "%%time\n",
    "\n",
    "reducer = cuml.UMAP(\n",
    "    n_neighbors=60,\n",
    "    n_epochs=1000,\n",
    "    negative_sample_rate=20,\n",
    "    verbose=True,\n",
    ")\n",
    "\n",
    "x = reducer.fit_transform(embeds_small_fp16)"
   ]
  },
  {
   "cell_type": "code",
   "execution_count": null,
   "id": "38c079a5-3fb9-417a-8ff3-daae4e1de2b8",
   "metadata": {},
   "outputs": [],
   "source": []
  }
 ],
 "metadata": {
  "kernelspec": {
   "display_name": "Python 3 (ipykernel)",
   "language": "python",
   "name": "python3"
  },
  "language_info": {
   "codemirror_mode": {
    "name": "ipython",
    "version": 3
   },
   "file_extension": ".py",
   "mimetype": "text/x-python",
   "name": "python",
   "nbconvert_exporter": "python",
   "pygments_lexer": "ipython3",
   "version": "3.8.12"
  }
 },
 "nbformat": 4,
 "nbformat_minor": 5
}
